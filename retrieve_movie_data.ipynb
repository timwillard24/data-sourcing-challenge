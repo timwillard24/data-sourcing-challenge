{
 "cells": [
  {
   "cell_type": "markdown",
   "metadata": {},
   "source": [
    "### Import Required Libraries and Set Up Environment Variables"
   ]
  },
  {
   "cell_type": "code",
   "execution_count": null,
   "metadata": {},
   "outputs": [],
   "source": [
    "# Dependencies\n",
    "import requests\n",
    "import time\n",
    "from dotenv import load_dotenv\n",
    "import os\n",
    "import pandas as pd\n",
    "import json\n",
    "import urllib.parse\n",
    "import re"
   ]
  },
  {
   "cell_type": "code",
   "execution_count": null,
   "metadata": {},
   "outputs": [],
   "source": [
    "# Set environment variables from the .env in the local environment\n",
    "\n",
    "dotenv_path = 'API_Key.env'\n",
    "load_dotenv(dotenv_path)"
   ]
  },
  {
   "cell_type": "code",
   "execution_count": null,
   "metadata": {},
   "outputs": [],
   "source": [
    "\n",
    "nyt_api_key = os.getenv(\"NYT_API_KEY\")\n",
    "tmdb_api_key = os.getenv(\"TMDB_API_KEY\")\n",
    "print(nyt_api_key)\n",
    "print(tmdb_api_key)"
   ]
  },
  {
   "cell_type": "markdown",
   "metadata": {},
   "source": [
    "### Access the New York Times API"
   ]
  },
  {
   "cell_type": "code",
   "execution_count": null,
   "metadata": {},
   "outputs": [],
   "source": [
    "# Set the base URL\n",
    "url = \"https://api.nytimes.com/svc/search/v2/articlesearch.json?\"\n",
    "\n",
    "# Initial simpler query to test if we get any results\n",
    "#filter_query = 'section_name:\"Movies\" AND type_of_material:\"Review\" AND headline:\"love\"'\n",
    "# Use simpler queries to debug\n",
    "filter_queries = [\n",
    "    'section_name:\"Movies\"',\n",
    "    'type_of_material:\"Review\"',\n",
    "    'headline:\"love\"'\n",
    "]\n",
    "\n",
    "# Use a sort filter, sort by newest\n",
    "sort = \"newest\"\n",
    "\n",
    "# Select the following fields to return:\n",
    "# headline, web_url, snippet, source, keywords, pub_date, byline, word_count\n",
    "field_list = \"headline,web_url,snippet,source,keywords,pub_date,byline,word_count\"\n",
    "\n",
    "# Search for reviews published between a begin and end date\n",
    "begin_date = \"20130101\"\n",
    "end_date = \"20230531\"\n",
    "\n",
    "# Test each filter query individually\n",
    "for filter_query in filter_queries:\n",
    "    encoded_filter_query = urllib.parse.quote(filter_query)\n",
    "    # Build URL\n",
    "    query_url = (\n",
    "        f\"{url}\"\n",
    "        f\"api-key={nyt_api_key}&\"\n",
    "        f\"fq={encoded_filter_query}&\"\n",
    "        f\"sort={sort}&\"\n",
    "        f\"fl={field_list}&\"\n",
    "        f\"begin_date={begin_date}&\"\n",
    "        f\"end_date={end_date}&\"\n",
    "        f\"page=0\"\n",
    "    )\n",
    "    # Make a request to test the URL\n",
    "    response = requests.get(query_url)\n",
    "    print(f\"Testing filter query: {filter_query}\")\n",
    "    print(response.url)\n",
    "    print(f\"Page 0 response status code: {response.status_code}\")\n",
    "    print(response.json())\n",
    "    print(\"\\n\")\n"
   ]
  },
  {
   "cell_type": "code",
   "execution_count": null,
   "metadata": {},
   "outputs": [],
   "source": [
    "    # Make a request to test the URL\n",
    "    response = requests.get(query_url)\n",
    "    print(f\"Testing filter query: {filter_query}\")\n",
    "    print(response.url)\n",
    "    print(f\"Page 0 response status code: {response.status_code}\")\n",
    "    print(response.json())\n",
    "    print(\"\\n\")"
   ]
  },
  {
   "cell_type": "code",
   "execution_count": null,
   "metadata": {},
   "outputs": [],
   "source": [
    "# Create an empty list to store the reviews\n",
    "reviews_list = []"
   ]
  },
  {
   "cell_type": "code",
   "execution_count": null,
   "metadata": {},
   "outputs": [],
   "source": [
    "\n",
    "# loop through pages 0-19\n",
    "for page in range(0, 20):\n",
    "    query_url = f\"{url}api-key={nyt_api_key}&q={filter_query}&sort={sort}&fl={field_list}&begin_date={begin_date}&end_date={end_date}&page={page}\"\n",
    "   \n",
    "    # create query with a page number\n",
    "    # API results show 10 articles at a time\n",
    "    # Make a \"GET\" request and retrieve the JSON\n",
    "    response = requests.get(query_url)\n",
    "    reviews = response.json()  \n",
    "# Print the response status code and a part of the response content for debugging\n",
    "    print(f\"Page {page} response status code: {response.status_code}\")\n",
    "    if response.status_code != 200:\n",
    "        print(f\"Error: {response.json()}\")\n",
    "    # Add a twelve second interval between queries to stay within API query limits\n",
    "    time.sleep(12)\n",
    "\n",
    "    # Try and save the reviews to the reviews_list\n",
    "    # loop through the reviews[\"response\"][\"docs\"] and append each review to the list\n",
    "    # Print the page that was just retrieved\n",
    "    # Print the page number that had no results then break from the loop  \n",
    "    try:\n",
    "        docs = reviews.get(\"response\", {}).get(\"docs\", [])\n",
    "        if not docs:\n",
    "            print(f\"No results found on page {page}\")\n",
    "            break\n",
    "        for doc in docs:\n",
    "            reviews_list.append(doc)\n",
    "        print(f\"Page {page} processed\")\n",
    "    except Exception as e:\n",
    "        print(f\"An error occurred on page {page}: {e}\")\n",
    "        break\n",
    "\n",
    "    \n",
    "\n"
   ]
  },
  {
   "cell_type": "code",
   "execution_count": null,
   "metadata": {},
   "outputs": [],
   "source": [
    "# Preview the first 5 results in JSON format\n",
    "# Use json.dumps with argument indent=4 to format data\n",
    "print(json.dumps(reviews_list[:5], indent=4))\n"
   ]
  },
  {
   "cell_type": "code",
   "execution_count": null,
   "metadata": {},
   "outputs": [],
   "source": [
    "# Convert reviews_list to a Pandas DataFrame using json_normalize()\n",
    "df = pd.json_normalize(reviews_list)\n",
    "df"
   ]
  },
  {
   "cell_type": "code",
   "execution_count": null,
   "metadata": {},
   "outputs": [],
   "source": [
    "# Extract the title from the \"headline.main\" column and\n",
    "# save it to a new column \"title\"\n",
    "# Title is between unicode characters \\u2018 and \\u2019. \n",
    "# End string should include \" Review\" to avoid cutting title early\n",
    "def extract_title(headline):\n",
    "    match = re.search(r'\\u2018(.*?)\\u2019', headline)\n",
    "    if match:\n",
    "        title = match.group(1) + \" Review\"\n",
    "        return title\n",
    "    else:\n",
    "        return None\n",
    "    \n",
    "df['title'] = df['headline.main'].apply(extract_title)\n",
    "\n",
    "\n",
    "df.head()  "
   ]
  },
  {
   "cell_type": "code",
   "execution_count": null,
   "metadata": {},
   "outputs": [],
   "source": [
    "# Extract 'name' and 'value' from items in \"keywords\" column\n",
    "# def extract_keywords(keyword_list):\n",
    "#     extracted_keywords = \"\"\n",
    "#     for item in keyword_list:\n",
    "#         # Extract 'name' and 'value'\n",
    "#         keyword = f\"{item['name']}: {item['value']};\" \n",
    "#         # Append the keyword item to the extracted_keywords list\n",
    "#         extracted_keywords += keyword\n",
    "#     return extracted_keywords\n",
    "\n",
    "# # Fix the \"keywords\" column by converting cells from a list to a string\n",
    "# df['keywords'] = df['keywords'].apply(extract_keywords)\n",
    "def extract_keywords(keyword_list):\n",
    "    extracted_keywords = \"\"\n",
    "    for item in keyword_list:\n",
    "        if isinstance(item, dict):\n",
    "            keyword = f\"{item.get('name', '')}: {item.get('value', '')}; \"\n",
    "            extracted_keywords += keyword\n",
    "    return extracted_keywords.strip()  # Strip trailing space\n",
    "\n",
    "# Fix the \"keywords\" column\n",
    "df['keywords'] = df['keywords'].apply(extract_keywords)"
   ]
  },
  {
   "cell_type": "code",
   "execution_count": null,
   "metadata": {},
   "outputs": [],
   "source": [
    "df.head()"
   ]
  },
  {
   "cell_type": "code",
   "execution_count": null,
   "metadata": {
    "scrolled": true
   },
   "outputs": [],
   "source": [
    "# Create a list from the \"title\" column using to_list()\n",
    "# These titles will be used in the query for The Movie Database\n",
    "nyt_titles = df['title'].tolist()\n",
    "print(nyt_titles)"
   ]
  },
  {
   "cell_type": "code",
   "execution_count": null,
   "metadata": {},
   "outputs": [],
   "source": [
    "# # Filter out None values and remove \" Review\" suffix\n",
    "cleaned_titles = [title.replace(\" Review\", \"\") for title in nyt_titles if title is not None]\n",
    "\n",
    "# # Print the cleaned titles\n",
    "print(cleaned_titles)"
   ]
  },
  {
   "cell_type": "markdown",
   "metadata": {},
   "source": [
    "### Access The Movie Database API"
   ]
  },
  {
   "cell_type": "code",
   "execution_count": null,
   "metadata": {},
   "outputs": [],
   "source": [
    "# Prepare The Movie Database query\n",
    "tmdb_url = \"https://api.themoviedb.org/3/search/movie?query=\"\n",
    "tmdb_key_string = \"&api_key=\" + tmdb_api_key\n",
    "tmdb_url"
   ]
  },
  {
   "cell_type": "code",
   "execution_count": null,
   "metadata": {},
   "outputs": [],
   "source": [
    "# Create an empty list to store the results\n",
    "tmdb_list = []"
   ]
  },
  {
   "cell_type": "code",
   "execution_count": null,
   "metadata": {},
   "outputs": [],
   "source": [
    "# Create a request counter to sleep the requests after a multiple\n",
    "# of 50 requests\n",
    "request_counter = 0\n"
   ]
  },
  {
   "cell_type": "code",
   "execution_count": null,
   "metadata": {},
   "outputs": [],
   "source": [
    "# Loop through the titles\n",
    "for title in cleaned_titles:\n",
    "    try:\n",
    "        tmdb_query_url = f\"https://api.themoviedb.org/3/search/movie?api_key={tmdb_api_key}&query={title}\"\n",
    "     # Perform a \"GET\" request for The Movie Database\n",
    "        tmdb_response = requests.get(tmdb_query_url)\n",
    "            # Add 1 to the request counter\n",
    "    # Make the request to TMDB\n",
    "   \n",
    "        request_counter += 1\n",
    "# Check if we need to sleep before making a request\n",
    "        if request_counter % 50 == 0:\n",
    "            print(f\"API rate limit - (Request {request_counter})\")\n",
    "            time.sleep(10)\n",
    "    \n",
    "    # Include a try clause to search for the full movie details.\n",
    "    # Use the except clause to print out a statement if a movie\n",
    "    # is not found.\n",
    "        if tmdb_response.status_code == 200:\n",
    "            tmdb_list.append(tmdb_response.json())\n",
    "        else: \n",
    "            print(f\"No movie found for title {title}\")\n",
    "    except Exception as e:\n",
    "        print(f\"An error occurred searching for: {title}\")\n",
    "        print(f\"Error details: {str(e)}\")"
   ]
  },
  {
   "cell_type": "code",
   "execution_count": null,
   "metadata": {},
   "outputs": [],
   "source": [
    "tmdb_list"
   ]
  },
  {
   "cell_type": "code",
   "execution_count": null,
   "metadata": {},
   "outputs": [],
   "source": [
    "\n",
    "        # Get movie id\n",
    "        if tmdb_response.status_code == 200:\n",
    "            tmdb_data = tmdb_response.json()\n",
    "\n",
    "            # Check if the movie was found\n",
    "            if tmdb_data['results']:\n",
    "                movie_id = tmdb_data['results'][0]['id']\n",
    "                # Make a request for the full movie details\n",
    "                tmdb_movie_url = f\"https://api.themoviedb.org/3/movie/{movie_id}?api_key={tmdb_api_key}\"\n",
    "                tmdb_movie_response = requests.get(tmdb_movie_url)\n",
    "\n",
    "                if tmdb_movie_response.status_code == 200:\n",
    "                    movie_details = tmdb_movie_response.json()\n",
    "\n",
    "                    # Extract the genre names into a list\n",
    "                    genre_names = [genre['name'] for genre in movie_details.get('genres', [])]\n",
    "\n",
    "                    # Extract the spoken_languages' English name into a list\n",
    "                    language_names = [language['english_name'] for language in movie_details.get('spoken_languages', [])]\n",
    "\n",
    "                    # Extract the production_countries' name into a list\n",
    "                    country_names = [country['name'] for country in movie_details.get('production_countries', [])]\n",
    "\n",
    "                    # Add the relevant data to a dictionary and append it to the tmdb_list list\n",
    "                    movie_dict = {\n",
    "                        'title': movie_details.get('title'),\n",
    "                        'genres': genre_names,\n",
    "                        'spoken_languages': language_names,\n",
    "                        'production_countries': country_names,\n",
    "                        'release_date': movie_details.get('release_date'),\n",
    "                        'runtime': movie_details.get('runtime'),\n",
    "                        'vote_average': movie_details.get('vote_average'),\n",
    "                        'overview': movie_details.get('overview')\n",
    "                    }\n",
    "\n",
    "                    # Append the movie details to the list\n",
    "                    tmdb_list.append(movie_dict)\n",
    "\n",
    "                    # Print out the title that was found\n",
    "                    print(f\"Found details for movie: {title}\")\n",
    "                else:\n",
    "                    print(f\"Failed to get details for movie ID {movie_id}\")\n",
    "            else:\n",
    "                print(f\"No movie found for title {title}\")\n",
    "        else:\n",
    "            print(f\"Failed to search for movie: {title} - Status code: {tmdb_response.status_code}\")\n"
   ]
  },
  {
   "cell_type": "code",
   "execution_count": null,
   "metadata": {},
   "outputs": [],
   "source": [
    "movie_id"
   ]
  },
  {
   "cell_type": "markdown",
   "metadata": {},
   "source": []
  },
  {
   "cell_type": "markdown",
   "metadata": {},
   "source": []
  },
  {
   "cell_type": "code",
   "execution_count": null,
   "metadata": {},
   "outputs": [],
   "source": [
    "# Preview the first 5 results in JSON format\n",
    "# Use json.dumps with argument indent=4 to format data\n",
    "print(json.dumps(tmdb_list[:5], indent=4))\n"
   ]
  },
  {
   "cell_type": "code",
   "execution_count": null,
   "metadata": {},
   "outputs": [],
   "source": [
    "# Convert the results to a DataFrame\n",
    "tmdb_df = pd.json_normalize(tmdb_list)"
   ]
  },
  {
   "cell_type": "markdown",
   "metadata": {},
   "source": [
    "### Merge and Clean the Data for Export"
   ]
  },
  {
   "cell_type": "code",
   "execution_count": null,
   "metadata": {
    "scrolled": true
   },
   "outputs": [],
   "source": [
    "# Merge the New York Times reviews and TMDB DataFrames on title\n",
    "merged_df = pd.merge(df, tmdb_df, on='title', how='inner')\n"
   ]
  },
  {
   "cell_type": "code",
   "execution_count": null,
   "metadata": {},
   "outputs": [],
   "source": [
    "# Remove list brackets and quotation marks on the columns containing lists\n",
    "# Create a list of the columns that need fixing\n",
    "\n",
    "# Create a list of characters to remove\n",
    "\n",
    "\n",
    "# Loop through the list of columns to fix\n",
    "\n",
    "    # Convert the column to type 'str'\n",
    "\n",
    "\n",
    "    # Loop through characters to remove\n",
    "\n",
    "\n",
    "# Display the fixed DataFrame\n",
    "print(merged_df.head())"
   ]
  },
  {
   "cell_type": "code",
   "execution_count": null,
   "metadata": {},
   "outputs": [],
   "source": [
    "# Drop \"byline.person\" column\n",
    "merged_df = merged_df.drop(columns=['byline.person'])"
   ]
  },
  {
   "cell_type": "code",
   "execution_count": null,
   "metadata": {},
   "outputs": [],
   "source": [
    "# Delete duplicate rows and reset index\n",
    "merged_df = merged_df.drop_duplicates().reset_index(drop=True)"
   ]
  },
  {
   "cell_type": "code",
   "execution_count": null,
   "metadata": {},
   "outputs": [],
   "source": [
    "# Export data to CSV without the index\n",
    "merged_df.to_csv('merged_movie_data.csv', index=False)"
   ]
  },
  {
   "cell_type": "code",
   "execution_count": null,
   "metadata": {},
   "outputs": [],
   "source": []
  }
 ],
 "metadata": {
  "kernelspec": {
   "display_name": "Python 3 (ipykernel)",
   "language": "python",
   "name": "python3"
  },
  "language_info": {
   "codemirror_mode": {
    "name": "ipython",
    "version": 3
   },
   "file_extension": ".py",
   "mimetype": "text/x-python",
   "name": "python",
   "nbconvert_exporter": "python",
   "pygments_lexer": "ipython3",
   "version": "3.11.7"
  },
  "varInspector": {
   "cols": {
    "lenName": 16,
    "lenType": 16,
    "lenVar": 40
   },
   "kernels_config": {
    "python": {
     "delete_cmd_postfix": "",
     "delete_cmd_prefix": "del ",
     "library": "var_list.py",
     "varRefreshCmd": "print(var_dic_list())"
    },
    "r": {
     "delete_cmd_postfix": ") ",
     "delete_cmd_prefix": "rm(",
     "library": "var_list.r",
     "varRefreshCmd": "cat(var_dic_list()) "
    }
   },
   "types_to_exclude": [
    "module",
    "function",
    "builtin_function_or_method",
    "instance",
    "_Feature"
   ],
   "window_display": false
  }
 },
 "nbformat": 4,
 "nbformat_minor": 2
}
